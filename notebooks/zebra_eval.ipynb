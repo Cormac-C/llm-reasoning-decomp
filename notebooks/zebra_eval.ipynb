{
 "cells": [
  {
   "cell_type": "code",
   "execution_count": 1,
   "metadata": {},
   "outputs": [],
   "source": [
    "import os\n",
    "import sys\n",
    "import torch\n",
    "import importlib\n",
    "\n",
    "from dotenv import load_dotenv\n",
    "from datasets import Dataset"
   ]
  },
  {
   "cell_type": "code",
   "execution_count": 2,
   "metadata": {},
   "outputs": [
    {
     "data": {
      "text/plain": [
       "<torch._C.Generator at 0x11f4cf1f0>"
      ]
     },
     "execution_count": 2,
     "metadata": {},
     "output_type": "execute_result"
    }
   ],
   "source": [
    "# Setup module path for local imports\n",
    "module_path = os.path.abspath(os.path.join('..'))\n",
    "if module_path not in sys.path:\n",
    "    sys.path.append(module_path)\n",
    "\n",
    "# Load environment variables\n",
    "load_dotenv()\n",
    "\n",
    "# Configure device\n",
    "device = 'cuda' if torch.cuda.is_available() else 'mps' if torch.backends.mps.is_available() else 'cpu'\n",
    "\n",
    "# Fix random seed for reproducibility\n",
    "torch.manual_seed(0)"
   ]
  },
  {
   "cell_type": "code",
   "execution_count": 3,
   "metadata": {},
   "outputs": [
    {
     "data": {
      "text/plain": [
       "'mps'"
      ]
     },
     "execution_count": 3,
     "metadata": {},
     "output_type": "execute_result"
    }
   ],
   "source": [
    "device"
   ]
  },
  {
   "cell_type": "code",
   "execution_count": 4,
   "metadata": {},
   "outputs": [],
   "source": [
    "import src.train\n",
    "import src.model\n",
    "import data.zebra\n",
    "import evals.zebra_eval\n",
    "\n",
    "importlib.reload(src.train)\n",
    "importlib.reload(src.model)\n",
    "importlib.reload(data.zebra)\n",
    "importlib.reload(evals.zebra_eval)\n",
    "\n",
    "from src.train import sft_train_lora\n",
    "from src.model import identify_target_modules\n",
    "from data.zebra import Zebra\n",
    "from evals.zebra_eval import compute_zebra_metrics, eval_model_zebra, ZebraPuzzleMetric\n",
    "from data.format import chat_format_qa_instance, lm_format_qa_instance"
   ]
  },
  {
   "cell_type": "code",
   "execution_count": 5,
   "metadata": {},
   "outputs": [],
   "source": [
    "def load_prep_zebra_dataset(tokenizer, instruction_tuned=True, test_split_size=0.2):\n",
    "    dataset = Zebra(hf_token=os.environ[\"HF_TOKEN\"])\n",
    "    if instruction_tuned:\n",
    "        formatted_list = [chat_format_qa_instance(example) for example in dataset]\n",
    "        formatted_list = tokenizer.apply_chat_template(\n",
    "            formatted_list, tokenize=False, add_generation_prompt=False\n",
    "        )\n",
    "    else:\n",
    "        formatted_list = [lm_format_qa_instance(example) for example in dataset]\n",
    "    dataset = Dataset.from_dict({\"formatted_text\": formatted_list})\n",
    "\n",
    "    dataset = dataset.train_test_split(test_size=test_split_size)\n",
    "    return dataset"
   ]
  },
  {
   "cell_type": "code",
   "execution_count": 6,
   "metadata": {},
   "outputs": [],
   "source": [
    "correct_response = \"\"\"The solution is as follows:\n",
    "In house 1, name is Eric, pet is bird.\n",
    "In house 2, name is Arnold, pet is dog.\n",
    "In house 3, name is Alice, pet is cat.\n",
    "In house 4, name is Peter, pet is fish.\"\"\""
   ]
  },
  {
   "cell_type": "code",
   "execution_count": 7,
   "metadata": {},
   "outputs": [],
   "source": [
    "varied_correct_responses = [\n",
    "    correct_response,\n",
    "    \"\"\"\tThe solution is structured as follows:\n",
    "\t•\tHouse 1: Eric is the resident, and his pet is a bird.\n",
    "\t•\tHouse 2: Arnold lives here, and he has a dog as a pet.\n",
    "\t•\tHouse 3: Alice occupies this house, and her pet is a cat.\n",
    "\t•\tHouse 4: Peter resides in this house, and his pet is a fish.\"\"\",\n",
    "    \"\"\" Here is the breakdown of the solution:\n",
    "\t•\tIn House 1, Eric lives with his pet bird.\n",
    "\t•\tHouse 2 is home to Arnold, who has a dog.\n",
    "\t•\tHouse 3 is where Alice resides, along with her cat.\n",
    "\t•\tPeter lives in House 4, and his pet is a fish.\"\"\",\n",
    "    \"\"\" The solution can be presented as follows:\n",
    "\t•\tHouse 1 belongs to Eric, and he keeps a bird as a pet.\n",
    "\t•\tArnold stays in House 2, with a dog as his pet.\n",
    "\t•\tHouse 3 is where Alice lives, and she has a cat.\n",
    "\t•\tIn House 4, Peter resides, and he owns a fish.\"\"\"\n",
    "]\n",
    "references = [correct_response, correct_response, correct_response, correct_response]\n",
    "assert len(varied_correct_responses) == len(references)"
   ]
  },
  {
   "cell_type": "code",
   "execution_count": 8,
   "metadata": {},
   "outputs": [
    {
     "name": "stdout",
     "output_type": "stream",
     "text": [
      "part pairs: {1: {'ref': 'In house 1, name is Eric, pet is bird', 'pred': 'In house 1, name is Eric, pet is bird'}, 2: {'ref': 'In house 2, name is Arnold, pet is dog', 'pred': 'In house 2, name is Arnold, pet is dog'}, 3: {'ref': 'In house 3, name is Alice, pet is cat', 'pred': 'In house 3, name is Alice, pet is cat'}, 4: {'ref': 'In house 4, name is Peter, pet is fish', 'pred': 'In house 4, name is Peter, pet is fish'}}\n",
      "part pairs: {1: {'ref': 'In house 1, name is Eric, pet is bird', 'pred': 'House 1: Eric is the resident, and his pet is a bird'}, 2: {'ref': 'In house 2, name is Arnold, pet is dog', 'pred': 'House 2: Arnold lives here, and he has a dog as a pet'}, 3: {'ref': 'In house 3, name is Alice, pet is cat', 'pred': 'House 3: Alice occupies this house, and her pet is a cat'}, 4: {'ref': 'In house 4, name is Peter, pet is fish', 'pred': 'House 4: Peter resides in this house, and his pet is a fish'}}\n",
      "part pairs: {1: {'ref': 'In house 1, name is Eric, pet is bird', 'pred': 'In House 1, Eric lives with his pet bird'}, 2: {'ref': 'In house 2, name is Arnold, pet is dog', 'pred': 'House 2 is home to Arnold, who has a dog'}, 3: {'ref': 'In house 3, name is Alice, pet is cat', 'pred': 'House 3 is where Alice resides, along with her cat'}, 4: {'ref': 'In house 4, name is Peter, pet is fish', 'pred': 'Peter lives in House 4, and his pet is a fish'}}\n",
      "part pairs: {1: {'ref': 'In house 1, name is Eric, pet is bird', 'pred': 'House 1 belongs to Eric, and he keeps a bird as a pet'}, 2: {'ref': 'In house 2, name is Arnold, pet is dog', 'pred': 'Arnold stays in House 2, with a dog as his pet'}, 3: {'ref': 'In house 3, name is Alice, pet is cat', 'pred': 'House 3 is where Alice lives, and she has a cat'}, 4: {'ref': 'In house 4, name is Peter, pet is fish', 'pred': 'In House 4, Peter resides, and he owns a fish'}}\n"
     ]
    },
    {
     "data": {
      "text/plain": [
       "{'eval_strict_accuracy': 1.0, 'eval_partial_accuracy': 1.0}"
      ]
     },
     "execution_count": 8,
     "metadata": {},
     "output_type": "execute_result"
    }
   ],
   "source": [
    "# Compute the metrics\n",
    "metrics = compute_zebra_metrics(varied_correct_responses, references)\n",
    "metrics"
   ]
  },
  {
   "cell_type": "code",
   "execution_count": 9,
   "metadata": {},
   "outputs": [],
   "source": [
    "varied_incorrect_responses = [\n",
    "    correct_response,\n",
    "    \"\"\"\tThe solution is structured as follows:\n",
    "\t•\tHouse 1: Bob is the resident, and his pet is a bird. \n",
    "\t•\tHouse 2: Arnold lives here, and he has a cat as a pet.\n",
    "\t•\tHouse 3: Alice occupies this house, and her pet is a cat.\n",
    "\t•\tHouse 4: Peter resides in this house, and his pet is a fish.\"\"\",\n",
    "    \"\"\" Here is the breakdown of the solution:\n",
    "\t•\tIn House 1, Janson lives with his pet bird.\n",
    "\t•\tHouse 2 is home to Arnold, who has a dog.\n",
    "\t•\tHouse 3 is where Alice resides, along with her cat.\n",
    "\t•\tPeter lives in House 4, and his pet is a fish.\"\"\",\n",
    "    \"\"\" The solution can be presented as follows:\n",
    "\t•\tHouse 1 belongs to Eric, and he keeps a bird as a pet.\n",
    "\t•\tArnold stays in House 2, with a dog as his pet.\n",
    "\t•\tHouse 3 is where Alice lives, and she has a cat.\n",
    "\t•\tIn House 4, Peter resides, and he owns a fish.\"\"\"\n",
    "]"
   ]
  },
  {
   "cell_type": "code",
   "execution_count": 10,
   "metadata": {},
   "outputs": [
    {
     "name": "stdout",
     "output_type": "stream",
     "text": [
      "part pairs: {1: {'ref': 'In house 1, name is Eric, pet is bird', 'pred': 'In house 1, name is Eric, pet is bird'}, 2: {'ref': 'In house 2, name is Arnold, pet is dog', 'pred': 'In house 2, name is Arnold, pet is dog'}, 3: {'ref': 'In house 3, name is Alice, pet is cat', 'pred': 'In house 3, name is Alice, pet is cat'}, 4: {'ref': 'In house 4, name is Peter, pet is fish', 'pred': 'In house 4, name is Peter, pet is fish'}}\n",
      "part pairs: {1: {'ref': 'In house 1, name is Eric, pet is bird', 'pred': 'House 1: Bob is the resident, and his pet is a bird'}, 2: {'ref': 'In house 2, name is Arnold, pet is dog', 'pred': 'House 2: Arnold lives here, and he has a cat as a pet'}, 3: {'ref': 'In house 3, name is Alice, pet is cat', 'pred': 'House 3: Alice occupies this house, and her pet is a cat'}, 4: {'ref': 'In house 4, name is Peter, pet is fish', 'pred': 'House 4: Peter resides in this house, and his pet is a fish'}}\n",
      "part pairs: {1: {'ref': 'In house 1, name is Eric, pet is bird', 'pred': 'In House 1, Janson lives with his pet bird'}, 2: {'ref': 'In house 2, name is Arnold, pet is dog', 'pred': 'House 2 is home to Arnold, who has a dog'}, 3: {'ref': 'In house 3, name is Alice, pet is cat', 'pred': 'House 3 is where Alice resides, along with her cat'}, 4: {'ref': 'In house 4, name is Peter, pet is fish', 'pred': 'Peter lives in House 4, and his pet is a fish'}}\n",
      "part pairs: {1: {'ref': 'In house 1, name is Eric, pet is bird', 'pred': 'House 1 belongs to Eric, and he keeps a bird as a pet'}, 2: {'ref': 'In house 2, name is Arnold, pet is dog', 'pred': 'Arnold stays in House 2, with a dog as his pet'}, 3: {'ref': 'In house 3, name is Alice, pet is cat', 'pred': 'House 3 is where Alice lives, and she has a cat'}, 4: {'ref': 'In house 4, name is Peter, pet is fish', 'pred': 'In House 4, Peter resides, and he owns a fish'}}\n"
     ]
    },
    {
     "data": {
      "text/plain": [
       "{'eval_strict_accuracy': 0.5, 'eval_partial_accuracy': 0.90625}"
      ]
     },
     "execution_count": 10,
     "metadata": {},
     "output_type": "execute_result"
    }
   ],
   "source": [
    "# Compute the metrics\n",
    "metrics = compute_zebra_metrics(varied_incorrect_responses, references)\n",
    "metrics"
   ]
  }
 ],
 "metadata": {
  "kernelspec": {
   "display_name": "reasoning-decomp",
   "language": "python",
   "name": "python3"
  },
  "language_info": {
   "codemirror_mode": {
    "name": "ipython",
    "version": 3
   },
   "file_extension": ".py",
   "mimetype": "text/x-python",
   "name": "python",
   "nbconvert_exporter": "python",
   "pygments_lexer": "ipython3",
   "version": "3.12.7"
  }
 },
 "nbformat": 4,
 "nbformat_minor": 2
}
