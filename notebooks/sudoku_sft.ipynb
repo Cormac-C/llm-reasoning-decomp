{
 "cells": [
  {
   "cell_type": "code",
   "execution_count": 126,
   "metadata": {},
   "outputs": [],
   "source": [
    "import os\n",
    "import sys\n",
    "import torch\n",
    "import importlib\n",
    "\n",
    "from peft import LoraConfig\n",
    "from dotenv import load_dotenv\n",
    "from transformers import AutoModelForCausalLM, AutoTokenizer\n",
    "from datasets import Dataset"
   ]
  },
  {
   "cell_type": "code",
   "execution_count": 127,
   "metadata": {},
   "outputs": [
    {
     "data": {
      "text/plain": [
       "'mps'"
      ]
     },
     "execution_count": 127,
     "metadata": {},
     "output_type": "execute_result"
    }
   ],
   "source": [
    "module_path = os.path.abspath(os.path.join('..'))\n",
    "if module_path not in sys.path:\n",
    "    sys.path.append(module_path)\n",
    "\n",
    "# Load environment variables\n",
    "load_dotenv()\n",
    "\n",
    "device = 'cuda' if torch.cuda.is_available() else 'mps' if torch.backends.mps.is_available() else 'cpu'\n",
    "device"
   ]
  },
  {
   "cell_type": "code",
   "execution_count": 128,
   "metadata": {},
   "outputs": [],
   "source": [
    "import src.train\n",
    "import src.model\n",
    "import data.sudoku\n",
    "import evals.sudoku_eval\n",
    "\n",
    "importlib.reload(src.train)\n",
    "importlib.reload(src.model)\n",
    "importlib.reload(data.sudoku)\n",
    "importlib.reload(evals.sudoku_eval)\n",
    "\n",
    "from src.train import sft_train_lora\n",
    "from src.model import identify_target_modules\n",
    "from data.sudoku import Sudoku\n",
    "from evals.sudoku_eval import SudokuPuzzleMetric, compute_sudoku_metrics, eval_baseline_sudoku\n",
    "from data.format import chat_format_qa_instance, lm_format_qa_instance"
   ]
  },
  {
   "cell_type": "code",
   "execution_count": null,
   "metadata": {},
   "outputs": [],
   "source": [
    "dataset = Sudoku(data_file=os.environ['SUDOKU_PATH'])\n",
    "\n",
    "use_chat_format = False"
   ]
  },
  {
   "cell_type": "code",
   "execution_count": 130,
   "metadata": {},
   "outputs": [
    {
     "data": {
      "text/plain": [
       "False"
      ]
     },
     "execution_count": 130,
     "metadata": {},
     "output_type": "execute_result"
    }
   ],
   "source": [
    "use_chat_format"
   ]
  },
  {
   "cell_type": "code",
   "execution_count": null,
   "metadata": {},
   "outputs": [],
   "source": [
    "# Format the dataset using the appropriate format\n",
    "if use_chat_format:\n",
    "    MODEL_NAME = \"meta-llama/Llfama-2-7b-chat-h\"\n",
    "    formatted_data = [\n",
    "        chat_format_qa_instance({\"question\": example[\"question\"], \"answer\": example[\"answer\"]})\n",
    "        for example in dataset\n",
    "    ]\n",
    "else:\n",
    "    MODEL_NAME = \"facebook/opt-125m\"\n",
    "    formatted_data = [\n",
    "        lm_format_qa_instance({\"question\": example[\"question\"], \"answer\": example[\"answer\"]})\n",
    "        for example in dataset\n",
    "    ]"
   ]
  },
  {
   "cell_type": "code",
   "execution_count": null,
   "metadata": {},
   "outputs": [
    {
     "data": {
      "text/plain": [
       "'facebook/opt-125m'"
      ]
     },
     "execution_count": 132,
     "metadata": {},
     "output_type": "execute_result"
    }
   ],
   "source": [
    "MODEL_NAME"
   ]
  },
  {
   "cell_type": "code",
   "execution_count": null,
   "metadata": {},
   "outputs": [],
   "source": [
    "model = AutoModelForCausalLM.from_pretrained(MODEL_NAME)\n",
    "\n",
    "\n",
    "# Create a Dataset object with formatted text\n",
    "dataset = Dataset.from_dict({\"formatted_text\": formatted_data})"
   ]
  },
  {
   "cell_type": "code",
   "execution_count": 134,
   "metadata": {},
   "outputs": [
    {
     "data": {
      "text/plain": [
       "{'formatted_text': '### Question Given the Sudoku puzzle 1..5.37..6.3..8.9......98...1.......8761..........6...........7.8.9.76.47...6.312, which has 27 clues and a difficulty rating of 2.2. Please solve for the final arrangement.\\n### Answer: 198543726643278591527619843914735268876192435235486179462351987381927654759864312'}"
      ]
     },
     "execution_count": 134,
     "metadata": {},
     "output_type": "execute_result"
    }
   ],
   "source": [
    "dataset[0]"
   ]
  },
  {
   "cell_type": "code",
   "execution_count": 135,
   "metadata": {},
   "outputs": [
    {
     "data": {
      "text/plain": [
       "3000000"
      ]
     },
     "execution_count": 135,
     "metadata": {},
     "output_type": "execute_result"
    }
   ],
   "source": [
    "len(dataset)"
   ]
  },
  {
   "cell_type": "code",
   "execution_count": null,
   "metadata": {},
   "outputs": [],
   "source": [
    "# sample = dataset[0]['input_text']\n",
    "# response = sample.split(\" ### Answer:\")\n",
    "# answer = response[1].strip()\n",
    "# wrong_answer = response[1].strip().replace(\"1\", \"2\")\n",
    "\n",
    "# commenting this part out right now to work on later when evaluating"
   ]
  },
  {
   "cell_type": "code",
   "execution_count": null,
   "metadata": {},
   "outputs": [
    {
     "name": "stdout",
     "output_type": "stream",
     "text": [
      "Given the Sudoku puzzle 1..5.37..6.3..8.9......98...1.......8761..........6...........7.8.9.76.47...6.312, which has 27 clues and a difficulty rating of 2.2. Please solve for the final arrangement. ### Answer: 198543726643278591527619843914735268876192435235486179462351987381927654759864312\n",
      "198543726643278591527619843914735268876192435235486179462351987381927654759864312\n",
      "298543726643278592527629843924735268876292435235486279462352987382927654759864322\n"
     ]
    }
   ],
   "source": [
    "# print(sample)\n",
    "# print(answer)\n",
    "# print(wrong_answer)"
   ]
  },
  {
   "cell_type": "code",
   "execution_count": null,
   "metadata": {},
   "outputs": [
    {
     "name": "stdout",
     "output_type": "stream",
     "text": [
      "pred 198543726643278591527619843914735268876192435235486179462351987381927654759864312\n",
      "ref 198543726643278591527619843914735268876192435235486179462351987381927654759864312\n",
      "ref_parts len 81\n",
      "pred 298543726643278592527629843924735268876292435235486279462352987382927654759864322\n",
      "ref 198543726643278591527619843914735268876192435235486179462351987381927654759864312\n",
      "ref_parts len 81\n",
      "{'strict_accuracy': 0.5, 'partial_accuracy': 0.9444444444444444}\n"
     ]
    }
   ],
   "source": [
    "# sudoku_metrics = SudokuPuzzleMetric()\n",
    "\n",
    "# sample_preds = [\n",
    "#     answer,\n",
    "#     wrong_answer,\n",
    "# ]\n",
    "\n",
    "# sample_refs = [\n",
    "#     answer,\n",
    "#     answer,\n",
    "# ]\n",
    "\n",
    "# results = sudoku_metrics.compute(sample_preds, sample_refs)\n",
    "# print(results)\n"
   ]
  },
  {
   "cell_type": "code",
   "execution_count": null,
   "metadata": {},
   "outputs": [],
   "source": []
  },
  {
   "cell_type": "code",
   "execution_count": 136,
   "metadata": {},
   "outputs": [],
   "source": [
    "target_modules = identify_target_modules(model, name_segment='self_attn')\n",
    "print(target_modules)"
   ]
  },
  {
   "cell_type": "code",
   "execution_count": 137,
   "metadata": {},
   "outputs": [],
   "source": [
    "lora_config = LoraConfig(\n",
    "    target_modules=target_modules,\n",
    "    r=16,\n",
    "    lora_alpha=32,\n",
    "    lora_dropout=0.05,\n",
    "    bias=\"none\",\n",
    ")"
   ]
  },
  {
   "cell_type": "code",
   "execution_count": null,
   "metadata": {},
   "outputs": [
    {
     "data": {
      "application/vnd.jupyter.widget-view+json": {
       "model_id": "c26539210f8e4d999ff74b0a258d3d0d",
       "version_major": 2,
       "version_minor": 0
      },
      "text/plain": [
       "Map:   0%|          | 0/3000000 [00:00<?, ? examples/s]"
      ]
     },
     "metadata": {},
     "output_type": "display_data"
    },
    {
     "data": {
      "application/vnd.jupyter.widget-view+json": {
       "model_id": "4f0de4bad8474126b4bb22791a22017c",
       "version_major": 2,
       "version_minor": 0
      },
      "text/plain": [
       "Map:   0%|          | 0/3000000 [00:00<?, ? examples/s]"
      ]
     },
     "metadata": {},
     "output_type": "display_data"
    },
    {
     "name": "stderr",
     "output_type": "stream",
     "text": [
      "/opt/anaconda3/envs/reasoning-decomp/lib/python3.12/site-packages/trl/trainer/sft_trainer.py:292: UserWarning: You didn't pass a `max_seq_length` argument to the SFTTrainer, this will default to 1024\n",
      "  warnings.warn(\n"
     ]
    },
    {
     "data": {
      "application/vnd.jupyter.widget-view+json": {
       "model_id": "dea989da79b14633a95e9b00a5dc3d42",
       "version_major": 2,
       "version_minor": 0
      },
      "text/plain": [
       "  0%|          | 0/1125000 [00:00<?, ?it/s]"
      ]
     },
     "metadata": {},
     "output_type": "display_data"
    },
    {
     "name": "stderr",
     "output_type": "stream",
     "text": [
      "/opt/anaconda3/envs/reasoning-decomp/lib/python3.12/site-packages/trl/trainer/utils.py:156: UserWarning: Could not find response key ` ### Answer:` in the following instance: </s>### Question Given the Sudoku puzzle 1.6....5.....793..7..3...8..538.1........5.9..........4.19.....56....2....2.4.1.., which has 24 clues and a difficulty rating of 2.3. Please solve for the final arrangement.\n",
      "### Answer: 136284957845179362729356481653891724217435698984627513471962835568713249392548176<pad><pad><pad><pad><pad><pad><pad><pad><pad> This instance will be ignored in loss calculation. Note, if this happens often, consider increasing the `max_seq_length`.\n",
      "  warnings.warn(\n",
      "/opt/anaconda3/envs/reasoning-decomp/lib/python3.12/site-packages/trl/trainer/utils.py:156: UserWarning: Could not find response key ` ### Answer:` in the following instance: </s>### Question Given the Sudoku puzzle 45...8...7....4.2.....2...1...1.....2.56...7...83..9..5....14....9..........7.8.6, which has 23 clues and a difficulty rating of 1.8. Please solve for the final arrangement.\n",
      "### Answer: 452718369761934528983526741397152684245689173618347952526891437879463215134275896<pad><pad><pad><pad> This instance will be ignored in loss calculation. Note, if this happens often, consider increasing the `max_seq_length`.\n",
      "  warnings.warn(\n",
      "/opt/anaconda3/envs/reasoning-decomp/lib/python3.12/site-packages/trl/trainer/utils.py:156: UserWarning: Could not find response key ` ### Answer:` in the following instance: </s>### Question Given the Sudoku puzzle .3...158.2...43......8..6.....4.5....7..8..2...9.....16.1..72.9....147...9......., which has 25 clues and a difficulty rating of 1.9. Please solve for the final arrangement.\n",
      "### Answer: 936721584258643197147859632312495876475186923869372451681537249523914768794268315<pad><pad><pad><pad><pad><pad> This instance will be ignored in loss calculation. Note, if this happens often, consider increasing the `max_seq_length`.\n",
      "  warnings.warn(\n",
      "/opt/anaconda3/envs/reasoning-decomp/lib/python3.12/site-packages/trl/trainer/utils.py:156: UserWarning: Could not find response key ` ### Answer:` in the following instance: </s>### Question Given the Sudoku puzzle 3.....5....5.7.....18.3..........6..8.1.....29...5.1.8..4..2.69.6.8...24...4..3.., which has 25 clues and a difficulty rating of 0.0. Please solve for the final arrangement.\n",
      "### Answer: 397624581625178493418539276542981637831746952976253148754312869163895724289467315 This instance will be ignored in loss calculation. Note, if this happens often, consider increasing the `max_seq_length`.\n",
      "  warnings.warn(\n",
      "/opt/anaconda3/envs/reasoning-decomp/lib/python3.12/site-packages/trl/trainer/utils.py:156: UserWarning: Could not find response key ` ### Answer:` in the following instance: </s>### Question Given the Sudoku puzzle 5.......6...5.94...2.61....7...9.13418.4............9.....8.31..13.2.74...8......, which has 26 clues and a difficulty rating of 0.0. Please solve for the final arrangement.\n",
      "### Answer: 531274986867539421924618573756892134189453267342167895495786312613925748278341659<pad><pad><pad><pad><pad><pad><pad><pad><pad> This instance will be ignored in loss calculation. Note, if this happens often, consider increasing the `max_seq_length`.\n",
      "  warnings.warn(\n",
      "/opt/anaconda3/envs/reasoning-decomp/lib/python3.12/site-packages/trl/trainer/utils.py:156: UserWarning: Could not find response key ` ### Answer:` in the following instance: </s>### Question Given the Sudoku puzzle .47...........913.9.2...........72....4.....92.3.8.46.1...........54.9....62....3, which has 23 clues and a difficulty rating of 0.0. Please solve for the final arrangement.\n",
      "### Answer: 347816592865729134912354687691437258584162379273985461129673845738541926456298713<pad><pad><pad><pad><pad><pad><pad><pad> This instance will be ignored in loss calculation. Note, if this happens often, consider increasing the `max_seq_length`.\n",
      "  warnings.warn(\n",
      "/opt/anaconda3/envs/reasoning-decomp/lib/python3.12/site-packages/trl/trainer/utils.py:156: UserWarning: Could not find response key ` ### Answer:` in the following instance: </s>### Question Given the Sudoku puzzle 5.1.3...7.....69.17..9.....4.8.9.572....7..8...9......81.....5.2...4......4..7..8, which has 26 clues and a difficulty rating of 1.1. Please solve for the final arrangement.\n",
      "### Answer: 591834627382756941746912835438691572625473189179285463817369254253148796964527318<pad><pad><pad><pad><pad><pad> This instance will be ignored in loss calculation. Note, if this happens often, consider increasing the `max_seq_length`.\n",
      "  warnings.warn(\n",
      "/opt/anaconda3/envs/reasoning-decomp/lib/python3.12/site-packages/trl/trainer/utils.py:156: UserWarning: Could not find response key ` ### Answer:` in the following instance: </s>### Question Given the Sudoku puzzle .6....98.....7.....2.........34..6.....51.89...86...5...9..3....5....2......89..7, which has 22 clues and a difficulty rating of 0.0. Please solve for the final arrangement.\n",
      "### Answer: 764321985385976142921845376573498621642517893198632754219753468857164239436289517<pad><pad><pad><pad><pad><pad><pad><pad><pad><pad><pad><pad> This instance will be ignored in loss calculation. Note, if this happens often, consider increasing the `max_seq_length`.\n",
      "  warnings.warn(\n",
      "/opt/anaconda3/envs/reasoning-decomp/lib/python3.12/site-packages/trl/trainer/utils.py:156: UserWarning: Could not find response key ` ### Answer:` in the following instance: </s>### Question Given the Sudoku puzzle .68..5.4.52.........93....7...6...53.7...........3.1.4...5...19.8...6..52.7....6., which has 25 clues and a difficulty rating of 1.3. Please solve for the final arrangement.\n",
      "### Answer: 768295341523741896149368527812674953374159682695832174436587219981426735257913468<pad><pad><pad> This instance will be ignored in loss calculation. Note, if this happens often, consider increasing the `max_seq_length`.\n",
      "  warnings.warn(\n",
      "/opt/anaconda3/envs/reasoning-decomp/lib/python3.12/site-packages/trl/trainer/utils.py:156: UserWarning: Could not find response key ` ### Answer:` in the following instance: </s>### Question Given the Sudoku puzzle .4...19........4...9..58.31.1....5.9...5.......72.9........7.6....8.4....7693.84., which has 26 clues and a difficulty rating of 0.0. Please solve for the final arrangement.\n",
      "### Answer: 548371926731692458692458731213746589869513274457289613984127365325864197176935842<pad><pad><pad> This instance will be ignored in loss calculation. Note, if this happens often, consider increasing the `max_seq_length`.\n",
      "  warnings.warn(\n",
      "/opt/anaconda3/envs/reasoning-decomp/lib/python3.12/site-packages/trl/trainer/utils.py:156: UserWarning: Could not find response key ` ### Answer:` in the following instance: </s>### Question Given the Sudoku puzzle 39......1.....2....7.4..95..29..674..5..4......63.1..9...569..........7....1.4..., which has 25 clues and a difficulty rating of 1.4. Please solve for the final arrangement.\n",
      "### Answer: 394785261581692437672413958129856743853947126746321589437569812915238674268174395<pad><pad><pad><pad><pad><pad><pad> This instance will be ignored in loss calculation. Note, if this happens often, consider increasing the `max_seq_length`.\n",
      "  warnings.warn(\n",
      "/opt/anaconda3/envs/reasoning-decomp/lib/python3.12/site-packages/trl/trainer/utils.py:156: UserWarning: Could not find response key ` ### Answer:` in the following instance: </s>### Question Given the Sudoku puzzle 7..9..3..3...5...4.........2...3.7..1.65.4..8...6.....43..9...5...4..6..8....79.., which has 24 clues and a difficulty rating of 1.2. Please solve for the final arrangement.\n",
      "### Answer: 754968321329751864681243597248139756196574238573682419432896175917425683865317942 This instance will be ignored in loss calculation. Note, if this happens often, consider increasing the `max_seq_length`.\n",
      "  warnings.warn(\n",
      "/opt/anaconda3/envs/reasoning-decomp/lib/python3.12/site-packages/trl/trainer/utils.py:156: UserWarning: Could not find response key ` ### Answer:` in the following instance: </s>### Question Given the Sudoku puzzle ..7..8.....1.2.9..2..1...8..3..........94.37.4.......8..98...4....7312...6.....1., which has 24 clues and a difficulty rating of 2.4. Please solve for the final arrangement.\n",
      "### Answer: 697458132841326957253179684935687421128945376476213598319862745584731269762594813<pad><pad><pad> This instance will be ignored in loss calculation. Note, if this happens often, consider increasing the `max_seq_length`.\n",
      "  warnings.warn(\n",
      "/opt/anaconda3/envs/reasoning-decomp/lib/python3.12/site-packages/trl/trainer/utils.py:156: UserWarning: Could not find response key ` ### Answer:` in the following instance: </s>### Question Given the Sudoku puzzle ........36....5....85....9....1.23.6.......7...2...8.....85..3..492.....56..9..4., which has 23 clues and a difficulty rating of 1.6. Please solve for the final arrangement.\n",
      "### Answer: 921487563673915428485326197894172356136548972752639814217854639349261785568793241<pad><pad><pad><pad><pad><pad><pad><pad><pad><pad><pad> This instance will be ignored in loss calculation. Note, if this happens often, consider increasing the `max_seq_length`.\n",
      "  warnings.warn(\n",
      "/opt/anaconda3/envs/reasoning-decomp/lib/python3.12/site-packages/trl/trainer/utils.py:156: UserWarning: Could not find response key ` ### Answer:` in the following instance: </s>### Question Given the Sudoku puzzle 573.......8....513......6....4.5.2.........3.127.9.......96.3..8..7.1.9...1.3...., which has 25 clues and a difficulty rating of 0.0. Please solve for the final arrangement.\n",
      "### Answer: 573612948286479513419583672394158267658247139127396854742965381835721496961834725<pad><pad><pad><pad><pad><pad><pad> This instance will be ignored in loss calculation. Note, if this happens often, consider increasing the `max_seq_length`.\n",
      "  warnings.warn(\n",
      "/opt/anaconda3/envs/reasoning-decomp/lib/python3.12/site-packages/trl/trainer/utils.py:156: UserWarning: Could not find response key ` ### Answer:` in the following instance: </s>### Question Given the Sudoku puzzle ......31..3........7852.......4.6..96.....2....5.8.....2..389..7....9..8.1.....5., which has 23 clues and a difficulty rating of 0.0. Please solve for the final arrangement.\n",
      "### Answer: 956874312432961875178523694287416539641395287395287146524738961763159428819642753<pad><pad><pad><pad><pad><pad><pad><pad><pad> This instance will be ignored in loss calculation. Note, if this happens often, consider increasing the `max_seq_length`.\n",
      "  warnings.warn(\n",
      "/opt/anaconda3/envs/reasoning-decomp/lib/python3.12/site-packages/trl/trainer/utils.py:156: UserWarning: Could not find response key ` ### Answer:` in the following instance: </s>### Question Given the Sudoku puzzle 8.52..6..1....35.....46..3...45.....68.....2..9.....7.3.79.............8....1.9.., which has 23 clues and a difficulty rating of 0.0. Please solve for the final arrangement.\n",
      "### Answer: 835291647146783592279465831714526389683179425592834176367958214951342768428617953<pad><pad><pad><pad><pad><pad> This instance will be ignored in loss calculation. Note, if this happens often, consider increasing the `max_seq_length`.\n",
      "  warnings.warn(\n",
      "/opt/anaconda3/envs/reasoning-decomp/lib/python3.12/site-packages/trl/trainer/utils.py:156: UserWarning: Could not find response key ` ### Answer:` in the following instance: </s>### Question Given the Sudoku puzzle 4....2.....7...584..8......8....1.5..6..7.14..53.....69....3.......6.723....2...., which has 24 clues and a difficulty rating of 0.0. Please solve for the final arrangement.\n",
      "### Answer: 495832617327916584618547239874691352269375148153284976942753861581469723736128495<pad><pad><pad><pad><pad><pad><pad><pad> This instance will be ignored in loss calculation. Note, if this happens often, consider increasing the `max_seq_length`.\n",
      "  warnings.warn(\n",
      "/opt/anaconda3/envs/reasoning-decomp/lib/python3.12/site-packages/trl/trainer/utils.py:156: UserWarning: Could not find response key ` ### Answer:` in the following instance: </s>### Question Given the Sudoku puzzle ..9.63....3....6.74..7......1.3....2...4.8.91...6..5....5.......6..241..82......., which has 24 clues and a difficulty rating of 3.1. Please solve for the final arrangement.\n",
      "### Answer: 789263415231549687456781239514397862672458391398612574145936728967824153823175946<pad><pad> This instance will be ignored in loss calculation. Note, if this happens often, consider increasing the `max_seq_length`.\n",
      "  warnings.warn(\n",
      "/opt/anaconda3/envs/reasoning-decomp/lib/python3.12/site-packages/trl/trainer/utils.py:156: UserWarning: Could not find response key ` ### Answer:` in the following instance: </s>### Question Given the Sudoku puzzle .....645..43..8.1..25..........65.2....1..3.....97.1..98.....733.1.........4....., which has 24 clues and a difficulty rating of 2.0. Please solve for the final arrangement.\n",
      "### Answer: 719326458643598712825714639137865924598142367462973185984651273371289546256437891<pad><pad><pad><pad><pad><pad> This instance will be ignored in loss calculation. Note, if this happens often, consider increasing the `max_seq_length`.\n",
      "  warnings.warn(\n",
      "/opt/anaconda3/envs/reasoning-decomp/lib/python3.12/site-packages/trl/trainer/utils.py:156: UserWarning: Could not find response key ` ### Answer:` in the following instance: </s>### Question Given the Sudoku puzzle .9.7....6....1...9..2.6..849...8...7...1.3.............516..4...4.....2..7..329.., which has 24 clues and a difficulty rating of 0.0. Please solve for the final arrangement.\n",
      "### Answer: 893724516467815239512369784935286147726143895184957362251698473349571628678432951 This instance will be ignored in loss calculation. Note, if this happens often, consider increasing the `max_seq_length`.\n",
      "  warnings.warn(\n",
      "/opt/anaconda3/envs/reasoning-decomp/lib/python3.12/site-packages/trl/trainer/utils.py:156: UserWarning: Could not find response key ` ### Answer:` in the following instance: </s>### Question Given the Sudoku puzzle ..79..5.2..16....78......3..8..5.2...2.....8.5.4.1....4...3.......72....2.....6.., which has 23 clues and a difficulty rating of 3.1. Please solve for the final arrangement.\n",
      "### Answer: 647983512351642897892571436786359241129467385534218769475136928968724153213895674<pad><pad> This instance will be ignored in loss calculation. Note, if this happens often, consider increasing the `max_seq_length`.\n",
      "  warnings.warn(\n",
      "/opt/anaconda3/envs/reasoning-decomp/lib/python3.12/site-packages/trl/trainer/utils.py:156: UserWarning: Could not find response key ` ### Answer:` in the following instance: </s>### Question Given the Sudoku puzzle 6....3.....71..34.8...6..2..5...623..9.2..1......31...4.8....1.....9.......7....., which has 23 clues and a difficulty rating of 0.0. Please solve for the final arrangement.\n",
      "### Answer: 641523798527189346839467521154876239396245187782931465478652913215398674963714852<pad><pad><pad><pad><pad> This instance will be ignored in loss calculation. Note, if this happens often, consider increasing the `max_seq_length`.\n",
      "  warnings.warn(\n",
      "/opt/anaconda3/envs/reasoning-decomp/lib/python3.12/site-packages/trl/trainer/utils.py:156: UserWarning: Could not find response key ` ### Answer:` in the following instance: </s>### Question Given the Sudoku puzzle ...574...1.....35......3..8.78.39.45...25...36........74......2.8..........12..8., which has 25 clues and a difficulty rating of 1.8. Please solve for the final arrangement.\n",
      "### Answer: 823574916197862354456913278278639145914258763635741829741386592582497631369125487<pad><pad><pad><pad><pad><pad><pad><pad><pad> This instance will be ignored in loss calculation. Note, if this happens often, consider increasing the `max_seq_length`.\n",
      "  warnings.warn(\n",
      "/opt/anaconda3/envs/reasoning-decomp/lib/python3.12/site-packages/trl/trainer/utils.py:156: UserWarning: Could not find response key ` ### Answer:` in the following instance: </s>### Question Given the Sudoku puzzle 6......7....9..1..19..5..244.1..8.....5...24.....67.......1..37.2...9.....8......, which has 23 clues and a difficulty rating of 2.2. Please solve for the final arrangement.\n",
      "### Answer: 654281973872934156193756824431528769765193248289467315946812537527349681318675492<pad><pad><pad><pad><pad><pad><pad><pad><pad> This instance will be ignored in loss calculation. Note, if this happens often, consider increasing the `max_seq_length`.\n",
      "  warnings.warn(\n",
      "/opt/anaconda3/envs/reasoning-decomp/lib/python3.12/site-packages/trl/trainer/utils.py:156: UserWarning: Could not find response key ` ### Answer:` in the following instance: </s>### Question Given the Sudoku puzzle .....4.7...9..715...5.8..69..8...6..7..2......96.1.4..5.....8......3.....4.67...., which has 24 clues and a difficulty rating of 2.7. Please solve for the final arrangement.\n",
      "### Answer: 613954278829367154475182369158743692734296581296815437567429813982531746341678925 This instance will be ignored in loss calculation. Note, if this happens often, consider increasing the `max_seq_length`.\n",
      "  warnings.warn(\n",
      "/opt/anaconda3/envs/reasoning-decomp/lib/python3.12/site-packages/trl/trainer/utils.py:156: UserWarning: Could not find response key ` ### Answer:` in the following instance: </s>### Question Given the Sudoku puzzle .8......7...95.2.4.75...6....126.9..8.4....63......5...96.....2....8...6.......3., which has 24 clues and a difficulty rating of 1.0. Please solve for the final arrangement.\n",
      "### Answer: 982641357613957284475328619751263948824519763369874521196435872537182496248796135<pad><pad><pad><pad><pad><pad><pad><pad><pad><pad> This instance will be ignored in loss calculation. Note, if this happens often, consider increasing the `max_seq_length`.\n",
      "  warnings.warn(\n",
      "/opt/anaconda3/envs/reasoning-decomp/lib/python3.12/site-packages/trl/trainer/utils.py:156: UserWarning: Could not find response key ` ### Answer:` in the following instance: </s>### Question Given the Sudoku puzzle ........4.......5257......9....9..4...2.3..1..412.6..7.9.........63.2.8..5...86.., which has 24 clues and a difficulty rating of 0.0. Please solve for the final arrangement.\n",
      "### Answer: 629587134183469752574123869735891246962734518841256397298615473416372985357948621<pad><pad><pad><pad><pad> This instance will be ignored in loss calculation. Note, if this happens often, consider increasing the `max_seq_length`.\n",
      "  warnings.warn(\n",
      "/opt/anaconda3/envs/reasoning-decomp/lib/python3.12/site-packages/trl/trainer/utils.py:156: UserWarning: Could not find response key ` ### Answer:` in the following instance: </s>### Question Given the Sudoku puzzle ..2..93....6........31...69.2....7.85...3.2.47...5........1..2.9.........8..475.., which has 24 clues and a difficulty rating of 0.0. Please solve for the final arrangement.\n",
      "### Answer: 172469385496385172853172469324691758569738214718254693645813927937526841281947536<pad><pad><pad><pad><pad><pad><pad><pad><pad> This instance will be ignored in loss calculation. Note, if this happens often, consider increasing the `max_seq_length`.\n",
      "  warnings.warn(\n",
      "/opt/anaconda3/envs/reasoning-decomp/lib/python3.12/site-packages/trl/trainer/utils.py:156: UserWarning: Could not find response key ` ### Answer:` in the following instance: </s>### Question Given the Sudoku puzzle 25.....1.4...2.8.......5.76.8......737....1..5...8.34.8.2.3..6....85...........2., which has 25 clues and a difficulty rating of 1.1. Please solve for the final arrangement.\n",
      "### Answer: 253678914467129835918345276184293657379564182526781349892437561641852793735916428<pad><pad><pad><pad> This instance will be ignored in loss calculation. Note, if this happens often, consider increasing the `max_seq_length`.\n",
      "  warnings.warn(\n",
      "/opt/anaconda3/envs/reasoning-decomp/lib/python3.12/site-packages/trl/trainer/utils.py:156: UserWarning: Could not find response key ` ### Answer:` in the following instance: </s>### Question Given the Sudoku puzzle .........385...6..7.1....54...2....1.....87..1.....23.....4.57..6.3.5..82...9..4., which has 25 clues and a difficulty rating of 1.2. Please solve for the final arrangement.\n",
      "### Answer: 694753812385421697721986354536279481942138765178564239819642573467315928253897146<pad><pad><pad><pad><pad><pad> This instance will be ignored in loss calculation. Note, if this happens often, consider increasing the `max_seq_length`.\n",
      "  warnings.warn(\n",
      "/opt/anaconda3/envs/reasoning-decomp/lib/python3.12/site-packages/trl/trainer/utils.py:156: UserWarning: Could not find response key ` ### Answer:` in the following instance: </s>### Question Given the Sudoku puzzle .....79.1.....3..5.81.6.7....7......3....5.4..243....98..9.....4.......6...68..2., which has 24 clues and a difficulty rating of 1.6. Please solve for the final arrangement.\n",
      "### Answer: 643527981279813465581469732957246318368195247124378659816932574432751896795684123<pad><pad><pad><pad><pad><pad><pad> This instance will be ignored in loss calculation. Note, if this happens often, consider increasing the `max_seq_length`.\n",
      "  warnings.warn(\n",
      "/opt/anaconda3/envs/reasoning-decomp/lib/python3.12/site-packages/trl/trainer/utils.py:156: UserWarning: Could not find response key ` ### Answer:` in the following instance: </s>### Question Given the Sudoku puzzle ...76..8.9...1......7..8..35.8.7.2.4.........2.4..18....1...56..7...2.4...9.8...7, which has 26 clues and a difficulty rating of 2.4. Please solve for the final arrangement.\n",
      "### Answer: 352769481986413752147258693518976234763824915294531876821347569675192348439685127 This instance will be ignored in loss calculation. Note, if this happens often, consider increasing the `max_seq_length`.\n",
      "  warnings.warn(\n",
      "/opt/anaconda3/envs/reasoning-decomp/lib/python3.12/site-packages/trl/trainer/utils.py:156: UserWarning: Could not find response key ` ### Answer:` in the following instance: </s>### Question Given the Sudoku puzzle 9.2....1..6..48...53...64.........6....8..94.....62.3...941.3........2.1.5...7..., which has 25 clues and a difficulty rating of 0.0. Please solve for the final arrangement.\n",
      "### Answer: 942573816761948523538126479215394768376851942894762135629415387487639251153287694<pad><pad><pad><pad><pad> This instance will be ignored in loss calculation. Note, if this happens often, consider increasing the `max_seq_length`.\n",
      "  warnings.warn(\n",
      "/opt/anaconda3/envs/reasoning-decomp/lib/python3.12/site-packages/trl/trainer/utils.py:156: UserWarning: Could not find response key ` ### Answer:` in the following instance: </s>### Question Given the Sudoku puzzle .56.98.1.3.........2.4..9...92......7......6......1..4...1..57......54..1...4.2.., which has 23 clues and a difficulty rating of 1.2. Please solve for the final arrangement.\n",
      "### Answer: 456798312379512648821436957692874135714253869538961724243189576967325481185647293<pad><pad><pad><pad> This instance will be ignored in loss calculation. Note, if this happens often, consider increasing the `max_seq_length`.\n",
      "  warnings.warn(\n",
      "/opt/anaconda3/envs/reasoning-decomp/lib/python3.12/site-packages/trl/trainer/utils.py:156: UserWarning: Could not find response key ` ### Answer:` in the following instance: </s>### Question Given the Sudoku puzzle ..6..41..9.....7658..3...4..1..5..2......36.....1.6...3..7.895......5.8...2.3...., which has 26 clues and a difficulty rating of 0.0. Please solve for the final arrangement.\n",
      "### Answer: 726594138943812765851367249617459823495283617238176594364728951179645382582931476 This instance will be ignored in loss calculation. Note, if this happens often, consider increasing the `max_seq_length`.\n",
      "  warnings.warn(\n",
      "/opt/anaconda3/envs/reasoning-decomp/lib/python3.12/site-packages/trl/trainer/utils.py:156: UserWarning: Could not find response key ` ### Answer:` in the following instance: </s>### Question Given the Sudoku puzzle ..825.1....1..8..4...9.......2...5.6.9.76....86.4......296.....3....7.......8.79., which has 25 clues and a difficulty rating of 3.0. Please solve for the final arrangement.\n",
      "### Answer: 638254179951378624247916385172839546594761238863425917729643851385197462416582793<pad><pad><pad><pad><pad> This instance will be ignored in loss calculation. Note, if this happens often, consider increasing the `max_seq_length`.\n",
      "  warnings.warn(\n",
      "/opt/anaconda3/envs/reasoning-decomp/lib/python3.12/site-packages/trl/trainer/utils.py:156: UserWarning: Could not find response key ` ### Answer:` in the following instance: </s>### Question Given the Sudoku puzzle 79............21.4...6....3........6.51.4....4..2..59...75..2.....73....943......, which has 23 clues and a difficulty rating of 2.1. Please solve for the final arrangement.\n",
      "### Answer: 792413865386952174514678923279185346651349782438267591167594238825736419943821657<pad><pad><pad><pad><pad><pad><pad><pad><pad> This instance will be ignored in loss calculation. Note, if this happens often, consider increasing the `max_seq_length`.\n",
      "  warnings.warn(\n",
      "/opt/anaconda3/envs/reasoning-decomp/lib/python3.12/site-packages/trl/trainer/utils.py:156: UserWarning: Could not find response key ` ### Answer:` in the following instance: </s>### Question Given the Sudoku puzzle .....19..5.....7.17...2.......6..4....87.3...4.....87........63.2.......1.73.2.9., which has 23 clues and a difficulty rating of 3.6. Please solve for the final arrangement.\n",
      "### Answer: 643571928582936741719824356271698435958743612436215879894157263325469187167382594<pad><pad><pad><pad><pad><pad> This instance will be ignored in loss calculation. Note, if this happens often, consider increasing the `max_seq_length`.\n",
      "  warnings.warn(\n",
      "/opt/anaconda3/envs/reasoning-decomp/lib/python3.12/site-packages/trl/trainer/utils.py:156: UserWarning: Could not find response key ` ### Answer:` in the following instance: </s>### Question Given the Sudoku puzzle 9..7.......56..3.2....15.....4....6.6..28...93..9.......9......2...41...45..2.8.., which has 24 clues and a difficulty rating of 2.5. Please solve for the final arrangement.\n",
      "### Answer: 968732154145698372723415986594173268671284539382956741819567423237841695456329817<pad><pad><pad><pad><pad><pad><pad> This instance will be ignored in loss calculation. Note, if this happens often, consider increasing the `max_seq_length`.\n",
      "  warnings.warn(\n",
      "/opt/anaconda3/envs/reasoning-decomp/lib/python3.12/site-packages/trl/trainer/utils.py:156: UserWarning: Could not find response key ` ### Answer:` in the following instance: </s>### Question Given the Sudoku puzzle .4.1...6.16.9....8...6..3..5.2.8.7.9........2...4.9..........3.2...4.8..4.7.6...., which has 24 clues and a difficulty rating of 3.2. Please solve for the final arrangement.\n",
      "### Answer: 348172965165934278729658314512386749934517682876429153681295437253741896497863521 This instance will be ignored in loss calculation. Note, if this happens often, consider increasing the `max_seq_length`.\n",
      "  warnings.warn(\n",
      "/opt/anaconda3/envs/reasoning-decomp/lib/python3.12/site-packages/trl/trainer/utils.py:156: UserWarning: Could not find response key ` ### Answer:` in the following instance: </s>### Question Given the Sudoku puzzle 53.....84..79..5........9....47........31...68..5..........3.5.7.54.8....6...7..8, which has 24 clues and a difficulty rating of 0.0. Please solve for the final arrangement.\n",
      "### Answer: 539671284187942563246835917614789325952314876873526149498163752725498631361257498<pad><pad><pad><pad><pad><pad><pad><pad><pad><pad><pad><pad> This instance will be ignored in loss calculation. Note, if this happens often, consider increasing the `max_seq_length`.\n",
      "  warnings.warn(\n",
      "/opt/anaconda3/envs/reasoning-decomp/lib/python3.12/site-packages/trl/trainer/utils.py:156: UserWarning: Could not find response key ` ### Answer:` in the following instance: </s>### Question Given the Sudoku puzzle 43......18...6.3....25.9..6.8.2....7.5...6.8.9..3...1....7.5.64.....3......9....., which has 25 clues and a difficulty rating of 0.0. Please solve for the final arrangement.\n",
      "### Answer: 436827951895461372712539846183254697257196483964378215329785164548613729671942538<pad><pad><pad><pad><pad><pad><pad> This instance will be ignored in loss calculation. Note, if this happens often, consider increasing the `max_seq_length`.\n",
      "  warnings.warn(\n",
      "/opt/anaconda3/envs/reasoning-decomp/lib/python3.12/site-packages/trl/trainer/utils.py:156: UserWarning: Could not find response key ` ### Answer:` in the following instance: </s>### Question Given the Sudoku puzzle 7.9.......5.7...8.8....64.91.84..73...76......2.81....4......91..1..2..........4., which has 25 clues and a difficulty rating of 3.3. Please solve for the final arrangement.\n",
      "### Answer: 739284516654791382812536479168429735947653128523817964475368291381942657296175843<pad><pad><pad><pad><pad><pad><pad><pad><pad><pad><pad><pad> This instance will be ignored in loss calculation. Note, if this happens often, consider increasing the `max_seq_length`.\n",
      "  warnings.warn(\n",
      "/opt/anaconda3/envs/reasoning-decomp/lib/python3.12/site-packages/trl/trainer/utils.py:156: UserWarning: Could not find response key ` ### Answer:` in the following instance: </s>### Question Given the Sudoku puzzle 1...89....8...12...9.6.2..7.7...4..6.1......82.....49....45.3.....968..1........., which has 25 clues and a difficulty rating of 2.7. Please solve for the final arrangement.\n",
      "### Answer: 142789653786531249395642817579824136614395728238176495961457382423968571857213964<pad><pad><pad><pad><pad><pad><pad><pad><pad><pad><pad> This instance will be ignored in loss calculation. Note, if this happens often, consider increasing the `max_seq_length`.\n",
      "  warnings.warn(\n",
      "/opt/anaconda3/envs/reasoning-decomp/lib/python3.12/site-packages/trl/trainer/utils.py:156: UserWarning: Could not find response key ` ### Answer:` in the following instance: </s>### Question Given the Sudoku puzzle ...89.....1..4..5....6..89....5.......2...3414.6..........6......49..62.3..1..5.., which has 23 clues and a difficulty rating of 1.4. Please solve for the final arrangement.\n",
      "### Answer: 675892413918347256243651897781534962592786341436219785827465139154973628369128574<pad><pad><pad><pad><pad><pad><pad><pad><pad><pad><pad><pad><pad><pad> This instance will be ignored in loss calculation. Note, if this happens often, consider increasing the `max_seq_length`.\n",
      "  warnings.warn(\n",
      "/opt/anaconda3/envs/reasoning-decomp/lib/python3.12/site-packages/trl/trainer/utils.py:156: UserWarning: Could not find response key ` ### Answer:` in the following instance: </s>### Question Given the Sudoku puzzle 9.2..6...1....5.7......9.45.3......45...7.1...7.8....2....23..1.4.............83., which has 23 clues and a difficulty rating of 0.0. Please solve for the final arrangement.\n",
      "### Answer: 952746318164385279387219645831562794526974183479831562798623451643158927215497836<pad><pad><pad><pad><pad><pad><pad><pad><pad><pad><pad> This instance will be ignored in loss calculation. Note, if this happens often, consider increasing the `max_seq_length`.\n",
      "  warnings.warn(\n",
      "/opt/anaconda3/envs/reasoning-decomp/lib/python3.12/site-packages/trl/trainer/utils.py:156: UserWarning: Could not find response key ` ### Answer:` in the following instance: </s>### Question Given the Sudoku puzzle .8426.........7.9...29....1..............987..3..5...9.2.....3.76.1.......96...48, which has 24 clues and a difficulty rating of 1.1. Please solve for the final arrangement.\n",
      "### Answer: 984261357316587294572934681891472563645319872237856419428795136763148925159623748<pad><pad><pad><pad><pad><pad><pad><pad><pad><pad><pad><pad><pad><pad><pad><pad> This instance will be ignored in loss calculation. Note, if this happens often, consider increasing the `max_seq_length`.\n",
      "  warnings.warn(\n",
      "/opt/anaconda3/envs/reasoning-decomp/lib/python3.12/site-packages/trl/trainer/utils.py:156: UserWarning: Could not find response key ` ### Answer:` in the following instance: </s>### Question Given the Sudoku puzzle .7...89.5..56..........4..6..8.9.1..7..........142..37.......9.1....678..6..1...4, which has 25 clues and a difficulty rating of 0.0. Please solve for the final arrangement.\n",
      "### Answer: 476238915215679348983154276548397162732861459691425837354782691129546783867913524<pad><pad><pad><pad> This instance will be ignored in loss calculation. Note, if this happens often, consider increasing the `max_seq_length`.\n",
      "  warnings.warn(\n",
      "/opt/anaconda3/envs/reasoning-decomp/lib/python3.12/site-packages/trl/trainer/utils.py:156: UserWarning: Could not find response key ` ### Answer:` in the following instance: </s>### Question Given the Sudoku puzzle ..7.3............4..9265.......18.4..7..9..1.13......9.......8..1.74.2..2.4...9.., which has 24 clues and a difficulty rating of 1.5. Please solve for the final arrangement.\n",
      "### Answer: 587134692621987354349265178952318746476592813138476529795623481813749265264851937<pad><pad><pad><pad> This instance will be ignored in loss calculation. Note, if this happens often, consider increasing the `max_seq_length`.\n",
      "  warnings.warn(\n",
      "/opt/anaconda3/envs/reasoning-decomp/lib/python3.12/site-packages/trl/trainer/utils.py:156: UserWarning: Could not find response key ` ### Answer:` in the following instance: </s>### Question Given the Sudoku puzzle ..1.7.4...3.56....5....9.......1.27.....4.6...6...2.8...6..459.....8.7..4.7..6..., which has 25 clues and a difficulty rating of 0.0. Please solve for the final arrangement.\n",
      "### Answer: 691278435834561927572439861948615273123847659765392184316724598259183746487956312 This instance will be ignored in loss calculation. Note, if this happens often, consider increasing the `max_seq_length`.\n",
      "  warnings.warn(\n",
      "/opt/anaconda3/envs/reasoning-decomp/lib/python3.12/site-packages/trl/trainer/utils.py:156: UserWarning: Could not find response key ` ### Answer:` in the following instance: </s>### Question Given the Sudoku puzzle ...2.....8.16....9537.....6.....9..53...5.7.87.6.......6.9.3.84.....8.5...8.....7, which has 26 clues and a difficulty rating of 1.4. Please solve for the final arrangement.\n",
      "### Answer: 649215873821637549537894216184769325392451768756382491265973184973148652418526937<pad><pad><pad><pad> This instance will be ignored in loss calculation. Note, if this happens often, consider increasing the `max_seq_length`.\n",
      "  warnings.warn(\n",
      "/opt/anaconda3/envs/reasoning-decomp/lib/python3.12/site-packages/trl/trainer/utils.py:156: UserWarning: Could not find response key ` ### Answer:` in the following instance: </s>### Question Given the Sudoku puzzle 37.5..........9.1...1.....3..7.......5.3...68.8..6...484..2..9.2...1......5....2., which has 23 clues and a difficulty rating of 0.0. Please solve for the final arrangement.\n",
      "### Answer: 372581649568439712491276853627854931154397268983162574846723195239615487715948326<pad><pad><pad><pad><pad><pad><pad> This instance will be ignored in loss calculation. Note, if this happens often, consider increasing the `max_seq_length`.\n",
      "  warnings.warn(\n",
      "/opt/anaconda3/envs/reasoning-decomp/lib/python3.12/site-packages/trl/trainer/utils.py:156: UserWarning: Could not find response key ` ### Answer:` in the following instance: </s>### Question Given the Sudoku puzzle ...3..6....5.94...8......5.7.6.5.....9..1.83........7.....21..5.2......86...8.31., which has 24 clues and a difficulty rating of 1.7. Please solve for the final arrangement.\n",
      "### Answer: 241375689365894127879162453736458291592716834418239576983621745127543968654987312<pad><pad><pad><pad> This instance will be ignored in loss calculation. Note, if this happens often, consider increasing the `max_seq_length`.\n",
      "  warnings.warn(\n",
      "/opt/anaconda3/envs/reasoning-decomp/lib/python3.12/site-packages/trl/trainer/utils.py:156: UserWarning: Could not find response key ` ### Answer:` in the following instance: </s>### Question Given the Sudoku puzzle 3.5.6.1...2.1.8........57....2...9.5...4....3.1..9..26..6....3....6.....57......., which has 23 clues and a difficulty rating of 2.7. Please solve for the final arrangement.\n",
      "### Answer: 395762148627148359184935762462381975759426813813597426246879531931654287578213694<pad><pad><pad> This instance will be ignored in loss calculation. Note, if this happens often, consider increasing the `max_seq_length`.\n",
      "  warnings.warn(\n",
      "/opt/anaconda3/envs/reasoning-decomp/lib/python3.12/site-packages/trl/trainer/utils.py:156: UserWarning: Could not find response key ` ### Answer:` in the following instance: </s>### Question Given the Sudoku puzzle .7.14..6..3..6.42562..3....1.7.8...............8.....9..2....54.6...5.8....9..7.., which has 25 clues and a difficulty rating of 1.0. Please solve for the final arrangement.\n",
      "### Answer: 579142368831769425624538197197284536256397841348651279912873654763415982485926713<pad><pad> This instance will be ignored in loss calculation. Note, if this happens often, consider increasing the `max_seq_length`.\n",
      "  warnings.warn(\n"
     ]
    },
    {
     "ename": "KeyboardInterrupt",
     "evalue": "",
     "output_type": "error",
     "traceback": [
      "\u001b[0;31m---------------------------------------------------------------------------\u001b[0m",
      "\u001b[0;31mKeyboardInterrupt\u001b[0m                         Traceback (most recent call last)",
      "Cell \u001b[0;32mIn[138], line 1\u001b[0m\n\u001b[0;32m----> 1\u001b[0m \u001b[43msft_train_lora\u001b[49m\u001b[43m(\u001b[49m\n\u001b[1;32m      2\u001b[0m \u001b[43m    \u001b[49m\u001b[43mbase_model\u001b[49m\u001b[38;5;241;43m=\u001b[39;49m\u001b[43mmodel\u001b[49m\u001b[43m,\u001b[49m\n\u001b[1;32m      3\u001b[0m \u001b[43m    \u001b[49m\u001b[43mtrain_dataset\u001b[49m\u001b[38;5;241;43m=\u001b[39;49m\u001b[43mdataset\u001b[49m\u001b[43m,\u001b[49m\n\u001b[1;32m      4\u001b[0m \u001b[43m    \u001b[49m\u001b[43meval_dataset\u001b[49m\u001b[38;5;241;43m=\u001b[39;49m\u001b[43mdataset\u001b[49m\u001b[43m,\u001b[49m\n\u001b[1;32m      5\u001b[0m \u001b[43m    \u001b[49m\u001b[43mtokenizer\u001b[49m\u001b[38;5;241;43m=\u001b[39;49m\u001b[43mAutoTokenizer\u001b[49m\u001b[38;5;241;43m.\u001b[39;49m\u001b[43mfrom_pretrained\u001b[49m\u001b[43m(\u001b[49m\u001b[43mchosen_model\u001b[49m\u001b[43m)\u001b[49m\u001b[43m,\u001b[49m\n\u001b[1;32m      6\u001b[0m \u001b[43m    \u001b[49m\u001b[43madapter_name\u001b[49m\u001b[38;5;241;43m=\u001b[39;49m\u001b[38;5;124;43m\"\u001b[39;49m\u001b[38;5;124;43msft_lora\u001b[39;49m\u001b[38;5;124;43m\"\u001b[39;49m\u001b[43m,\u001b[49m\n\u001b[1;32m      7\u001b[0m \u001b[43m    \u001b[49m\u001b[43mresponse_template\u001b[49m\u001b[38;5;241;43m=\u001b[39;49m\u001b[38;5;124;43m\"\u001b[39;49m\u001b[38;5;124;43m ### Answer:\u001b[39;49m\u001b[38;5;124;43m\"\u001b[39;49m\u001b[43m,\u001b[49m\n\u001b[1;32m      8\u001b[0m \u001b[43m    \u001b[49m\u001b[43mlora_config\u001b[49m\u001b[38;5;241;43m=\u001b[39;49m\u001b[43mlora_config\u001b[49m\u001b[43m,\u001b[49m\n\u001b[1;32m      9\u001b[0m \u001b[43m    \u001b[49m\u001b[43muse_chat_format\u001b[49m\u001b[38;5;241;43m=\u001b[39;49m\u001b[43muse_chat_format\u001b[49m\u001b[43m,\u001b[49m\n\u001b[1;32m     10\u001b[0m \u001b[43m)\u001b[49m\n",
      "File \u001b[0;32m~/PycharmProjects/llm-reasoning-decomp/src/train.py:114\u001b[0m, in \u001b[0;36msft_train_lora\u001b[0;34m(base_model, train_dataset, eval_dataset, tokenizer, adapter_name, formatting_prompts_func, response_template, lora_config, use_chat_format, training_args, compute_metrics, save_dir)\u001b[0m\n\u001b[1;32m    100\u001b[0m     eval_dataset \u001b[38;5;241m=\u001b[39m eval_dataset\u001b[38;5;241m.\u001b[39mmap(\n\u001b[1;32m    101\u001b[0m         \u001b[38;5;28;01mlambda\u001b[39;00m examples: tokenizer(examples[\u001b[38;5;124m\"\u001b[39m\u001b[38;5;124mformatted_text\u001b[39m\u001b[38;5;124m\"\u001b[39m]), batched\u001b[38;5;241m=\u001b[39m\u001b[38;5;28;01mTrue\u001b[39;00m\n\u001b[1;32m    102\u001b[0m     )\n\u001b[1;32m    104\u001b[0m trainer \u001b[38;5;241m=\u001b[39m SFTTrainer(\n\u001b[1;32m    105\u001b[0m     model\u001b[38;5;241m=\u001b[39mpeft_model,\n\u001b[1;32m    106\u001b[0m     train_dataset\u001b[38;5;241m=\u001b[39mtrain_dataset,\n\u001b[0;32m   (...)\u001b[0m\n\u001b[1;32m    111\u001b[0m     compute_metrics\u001b[38;5;241m=\u001b[39mcompute_metrics,\n\u001b[1;32m    112\u001b[0m )\n\u001b[0;32m--> 114\u001b[0m \u001b[43mtrainer\u001b[49m\u001b[38;5;241;43m.\u001b[39;49m\u001b[43mtrain\u001b[49m\u001b[43m(\u001b[49m\u001b[43m)\u001b[49m\n\u001b[1;32m    116\u001b[0m \u001b[38;5;28;01mif\u001b[39;00m save_dir:\n\u001b[1;32m    117\u001b[0m     peft_model\u001b[38;5;241m.\u001b[39msave_pretrained(save_dir, adapter_name)\n",
      "File \u001b[0;32m/opt/anaconda3/envs/reasoning-decomp/lib/python3.12/site-packages/trl/trainer/sft_trainer.py:434\u001b[0m, in \u001b[0;36mSFTTrainer.train\u001b[0;34m(self, *args, **kwargs)\u001b[0m\n\u001b[1;32m    431\u001b[0m \u001b[38;5;28;01mif\u001b[39;00m \u001b[38;5;28mself\u001b[39m\u001b[38;5;241m.\u001b[39mneftune_noise_alpha \u001b[38;5;129;01mis\u001b[39;00m \u001b[38;5;129;01mnot\u001b[39;00m \u001b[38;5;28;01mNone\u001b[39;00m \u001b[38;5;129;01mand\u001b[39;00m \u001b[38;5;129;01mnot\u001b[39;00m \u001b[38;5;28mself\u001b[39m\u001b[38;5;241m.\u001b[39m_trainer_supports_neftune:\n\u001b[1;32m    432\u001b[0m     \u001b[38;5;28mself\u001b[39m\u001b[38;5;241m.\u001b[39mmodel \u001b[38;5;241m=\u001b[39m \u001b[38;5;28mself\u001b[39m\u001b[38;5;241m.\u001b[39m_trl_activate_neftune(\u001b[38;5;28mself\u001b[39m\u001b[38;5;241m.\u001b[39mmodel)\n\u001b[0;32m--> 434\u001b[0m output \u001b[38;5;241m=\u001b[39m \u001b[38;5;28;43msuper\u001b[39;49m\u001b[43m(\u001b[49m\u001b[43m)\u001b[49m\u001b[38;5;241;43m.\u001b[39;49m\u001b[43mtrain\u001b[49m\u001b[43m(\u001b[49m\u001b[38;5;241;43m*\u001b[39;49m\u001b[43margs\u001b[49m\u001b[43m,\u001b[49m\u001b[43m \u001b[49m\u001b[38;5;241;43m*\u001b[39;49m\u001b[38;5;241;43m*\u001b[39;49m\u001b[43mkwargs\u001b[49m\u001b[43m)\u001b[49m\n\u001b[1;32m    436\u001b[0m \u001b[38;5;66;03m# After training we make sure to retrieve back the original forward pass method\u001b[39;00m\n\u001b[1;32m    437\u001b[0m \u001b[38;5;66;03m# for the embedding layer by removing the forward post hook.\u001b[39;00m\n\u001b[1;32m    438\u001b[0m \u001b[38;5;28;01mif\u001b[39;00m \u001b[38;5;28mself\u001b[39m\u001b[38;5;241m.\u001b[39mneftune_noise_alpha \u001b[38;5;129;01mis\u001b[39;00m \u001b[38;5;129;01mnot\u001b[39;00m \u001b[38;5;28;01mNone\u001b[39;00m \u001b[38;5;129;01mand\u001b[39;00m \u001b[38;5;129;01mnot\u001b[39;00m \u001b[38;5;28mself\u001b[39m\u001b[38;5;241m.\u001b[39m_trainer_supports_neftune:\n",
      "File \u001b[0;32m/opt/anaconda3/envs/reasoning-decomp/lib/python3.12/site-packages/transformers/trainer.py:2052\u001b[0m, in \u001b[0;36mTrainer.train\u001b[0;34m(self, resume_from_checkpoint, trial, ignore_keys_for_eval, **kwargs)\u001b[0m\n\u001b[1;32m   2050\u001b[0m         hf_hub_utils\u001b[38;5;241m.\u001b[39menable_progress_bars()\n\u001b[1;32m   2051\u001b[0m \u001b[38;5;28;01melse\u001b[39;00m:\n\u001b[0;32m-> 2052\u001b[0m     \u001b[38;5;28;01mreturn\u001b[39;00m \u001b[43minner_training_loop\u001b[49m\u001b[43m(\u001b[49m\n\u001b[1;32m   2053\u001b[0m \u001b[43m        \u001b[49m\u001b[43margs\u001b[49m\u001b[38;5;241;43m=\u001b[39;49m\u001b[43margs\u001b[49m\u001b[43m,\u001b[49m\n\u001b[1;32m   2054\u001b[0m \u001b[43m        \u001b[49m\u001b[43mresume_from_checkpoint\u001b[49m\u001b[38;5;241;43m=\u001b[39;49m\u001b[43mresume_from_checkpoint\u001b[49m\u001b[43m,\u001b[49m\n\u001b[1;32m   2055\u001b[0m \u001b[43m        \u001b[49m\u001b[43mtrial\u001b[49m\u001b[38;5;241;43m=\u001b[39;49m\u001b[43mtrial\u001b[49m\u001b[43m,\u001b[49m\n\u001b[1;32m   2056\u001b[0m \u001b[43m        \u001b[49m\u001b[43mignore_keys_for_eval\u001b[49m\u001b[38;5;241;43m=\u001b[39;49m\u001b[43mignore_keys_for_eval\u001b[49m\u001b[43m,\u001b[49m\n\u001b[1;32m   2057\u001b[0m \u001b[43m    \u001b[49m\u001b[43m)\u001b[49m\n",
      "File \u001b[0;32m/opt/anaconda3/envs/reasoning-decomp/lib/python3.12/site-packages/transformers/trainer.py:2388\u001b[0m, in \u001b[0;36mTrainer._inner_training_loop\u001b[0;34m(self, batch_size, args, resume_from_checkpoint, trial, ignore_keys_for_eval)\u001b[0m\n\u001b[1;32m   2385\u001b[0m     \u001b[38;5;28mself\u001b[39m\u001b[38;5;241m.\u001b[39mcontrol \u001b[38;5;241m=\u001b[39m \u001b[38;5;28mself\u001b[39m\u001b[38;5;241m.\u001b[39mcallback_handler\u001b[38;5;241m.\u001b[39mon_step_begin(args, \u001b[38;5;28mself\u001b[39m\u001b[38;5;241m.\u001b[39mstate, \u001b[38;5;28mself\u001b[39m\u001b[38;5;241m.\u001b[39mcontrol)\n\u001b[1;32m   2387\u001b[0m \u001b[38;5;28;01mwith\u001b[39;00m \u001b[38;5;28mself\u001b[39m\u001b[38;5;241m.\u001b[39maccelerator\u001b[38;5;241m.\u001b[39maccumulate(model):\n\u001b[0;32m-> 2388\u001b[0m     tr_loss_step \u001b[38;5;241m=\u001b[39m \u001b[38;5;28;43mself\u001b[39;49m\u001b[38;5;241;43m.\u001b[39;49m\u001b[43mtraining_step\u001b[49m\u001b[43m(\u001b[49m\u001b[43mmodel\u001b[49m\u001b[43m,\u001b[49m\u001b[43m \u001b[49m\u001b[43minputs\u001b[49m\u001b[43m)\u001b[49m\n\u001b[1;32m   2390\u001b[0m \u001b[38;5;28;01mif\u001b[39;00m (\n\u001b[1;32m   2391\u001b[0m     args\u001b[38;5;241m.\u001b[39mlogging_nan_inf_filter\n\u001b[1;32m   2392\u001b[0m     \u001b[38;5;129;01mand\u001b[39;00m \u001b[38;5;129;01mnot\u001b[39;00m is_torch_xla_available()\n\u001b[1;32m   2393\u001b[0m     \u001b[38;5;129;01mand\u001b[39;00m (torch\u001b[38;5;241m.\u001b[39misnan(tr_loss_step) \u001b[38;5;129;01mor\u001b[39;00m torch\u001b[38;5;241m.\u001b[39misinf(tr_loss_step))\n\u001b[1;32m   2394\u001b[0m ):\n\u001b[1;32m   2395\u001b[0m     \u001b[38;5;66;03m# if loss is nan or inf simply add the average of previous logged losses\u001b[39;00m\n\u001b[1;32m   2396\u001b[0m     tr_loss \u001b[38;5;241m+\u001b[39m\u001b[38;5;241m=\u001b[39m tr_loss \u001b[38;5;241m/\u001b[39m (\u001b[38;5;241m1\u001b[39m \u001b[38;5;241m+\u001b[39m \u001b[38;5;28mself\u001b[39m\u001b[38;5;241m.\u001b[39mstate\u001b[38;5;241m.\u001b[39mglobal_step \u001b[38;5;241m-\u001b[39m \u001b[38;5;28mself\u001b[39m\u001b[38;5;241m.\u001b[39m_globalstep_last_logged)\n",
      "File \u001b[0;32m/opt/anaconda3/envs/reasoning-decomp/lib/python3.12/site-packages/transformers/trainer.py:3518\u001b[0m, in \u001b[0;36mTrainer.training_step\u001b[0;34m(***failed resolving arguments***)\u001b[0m\n\u001b[1;32m   3516\u001b[0m         scaled_loss\u001b[38;5;241m.\u001b[39mbackward()\n\u001b[1;32m   3517\u001b[0m \u001b[38;5;28;01melse\u001b[39;00m:\n\u001b[0;32m-> 3518\u001b[0m     \u001b[38;5;28;43mself\u001b[39;49m\u001b[38;5;241;43m.\u001b[39;49m\u001b[43maccelerator\u001b[49m\u001b[38;5;241;43m.\u001b[39;49m\u001b[43mbackward\u001b[49m\u001b[43m(\u001b[49m\u001b[43mloss\u001b[49m\u001b[43m,\u001b[49m\u001b[43m \u001b[49m\u001b[38;5;241;43m*\u001b[39;49m\u001b[38;5;241;43m*\u001b[39;49m\u001b[43mkwargs\u001b[49m\u001b[43m)\u001b[49m\n\u001b[1;32m   3520\u001b[0m \u001b[38;5;28;01mreturn\u001b[39;00m loss\u001b[38;5;241m.\u001b[39mdetach() \u001b[38;5;241m/\u001b[39m \u001b[38;5;28mself\u001b[39m\u001b[38;5;241m.\u001b[39margs\u001b[38;5;241m.\u001b[39mgradient_accumulation_steps\n",
      "File \u001b[0;32m/opt/anaconda3/envs/reasoning-decomp/lib/python3.12/site-packages/accelerate/accelerator.py:2246\u001b[0m, in \u001b[0;36mAccelerator.backward\u001b[0;34m(self, loss, **kwargs)\u001b[0m\n\u001b[1;32m   2244\u001b[0m     \u001b[38;5;28mself\u001b[39m\u001b[38;5;241m.\u001b[39mlomo_backward(loss, learning_rate)\n\u001b[1;32m   2245\u001b[0m \u001b[38;5;28;01melse\u001b[39;00m:\n\u001b[0;32m-> 2246\u001b[0m     \u001b[43mloss\u001b[49m\u001b[38;5;241;43m.\u001b[39;49m\u001b[43mbackward\u001b[49m\u001b[43m(\u001b[49m\u001b[38;5;241;43m*\u001b[39;49m\u001b[38;5;241;43m*\u001b[39;49m\u001b[43mkwargs\u001b[49m\u001b[43m)\u001b[49m\n",
      "File \u001b[0;32m/opt/anaconda3/envs/reasoning-decomp/lib/python3.12/site-packages/torch/_tensor.py:521\u001b[0m, in \u001b[0;36mTensor.backward\u001b[0;34m(self, gradient, retain_graph, create_graph, inputs)\u001b[0m\n\u001b[1;32m    511\u001b[0m \u001b[38;5;28;01mif\u001b[39;00m has_torch_function_unary(\u001b[38;5;28mself\u001b[39m):\n\u001b[1;32m    512\u001b[0m     \u001b[38;5;28;01mreturn\u001b[39;00m handle_torch_function(\n\u001b[1;32m    513\u001b[0m         Tensor\u001b[38;5;241m.\u001b[39mbackward,\n\u001b[1;32m    514\u001b[0m         (\u001b[38;5;28mself\u001b[39m,),\n\u001b[0;32m   (...)\u001b[0m\n\u001b[1;32m    519\u001b[0m         inputs\u001b[38;5;241m=\u001b[39minputs,\n\u001b[1;32m    520\u001b[0m     )\n\u001b[0;32m--> 521\u001b[0m \u001b[43mtorch\u001b[49m\u001b[38;5;241;43m.\u001b[39;49m\u001b[43mautograd\u001b[49m\u001b[38;5;241;43m.\u001b[39;49m\u001b[43mbackward\u001b[49m\u001b[43m(\u001b[49m\n\u001b[1;32m    522\u001b[0m \u001b[43m    \u001b[49m\u001b[38;5;28;43mself\u001b[39;49m\u001b[43m,\u001b[49m\u001b[43m \u001b[49m\u001b[43mgradient\u001b[49m\u001b[43m,\u001b[49m\u001b[43m \u001b[49m\u001b[43mretain_graph\u001b[49m\u001b[43m,\u001b[49m\u001b[43m \u001b[49m\u001b[43mcreate_graph\u001b[49m\u001b[43m,\u001b[49m\u001b[43m \u001b[49m\u001b[43minputs\u001b[49m\u001b[38;5;241;43m=\u001b[39;49m\u001b[43minputs\u001b[49m\n\u001b[1;32m    523\u001b[0m \u001b[43m\u001b[49m\u001b[43m)\u001b[49m\n",
      "File \u001b[0;32m/opt/anaconda3/envs/reasoning-decomp/lib/python3.12/site-packages/torch/autograd/__init__.py:289\u001b[0m, in \u001b[0;36mbackward\u001b[0;34m(tensors, grad_tensors, retain_graph, create_graph, grad_variables, inputs)\u001b[0m\n\u001b[1;32m    284\u001b[0m     retain_graph \u001b[38;5;241m=\u001b[39m create_graph\n\u001b[1;32m    286\u001b[0m \u001b[38;5;66;03m# The reason we repeat the same comment below is that\u001b[39;00m\n\u001b[1;32m    287\u001b[0m \u001b[38;5;66;03m# some Python versions print out the first line of a multi-line function\u001b[39;00m\n\u001b[1;32m    288\u001b[0m \u001b[38;5;66;03m# calls in the traceback and some print out the last line\u001b[39;00m\n\u001b[0;32m--> 289\u001b[0m \u001b[43m_engine_run_backward\u001b[49m\u001b[43m(\u001b[49m\n\u001b[1;32m    290\u001b[0m \u001b[43m    \u001b[49m\u001b[43mtensors\u001b[49m\u001b[43m,\u001b[49m\n\u001b[1;32m    291\u001b[0m \u001b[43m    \u001b[49m\u001b[43mgrad_tensors_\u001b[49m\u001b[43m,\u001b[49m\n\u001b[1;32m    292\u001b[0m \u001b[43m    \u001b[49m\u001b[43mretain_graph\u001b[49m\u001b[43m,\u001b[49m\n\u001b[1;32m    293\u001b[0m \u001b[43m    \u001b[49m\u001b[43mcreate_graph\u001b[49m\u001b[43m,\u001b[49m\n\u001b[1;32m    294\u001b[0m \u001b[43m    \u001b[49m\u001b[43minputs\u001b[49m\u001b[43m,\u001b[49m\n\u001b[1;32m    295\u001b[0m \u001b[43m    \u001b[49m\u001b[43mallow_unreachable\u001b[49m\u001b[38;5;241;43m=\u001b[39;49m\u001b[38;5;28;43;01mTrue\u001b[39;49;00m\u001b[43m,\u001b[49m\n\u001b[1;32m    296\u001b[0m \u001b[43m    \u001b[49m\u001b[43maccumulate_grad\u001b[49m\u001b[38;5;241;43m=\u001b[39;49m\u001b[38;5;28;43;01mTrue\u001b[39;49;00m\u001b[43m,\u001b[49m\n\u001b[1;32m    297\u001b[0m \u001b[43m\u001b[49m\u001b[43m)\u001b[49m\n",
      "File \u001b[0;32m/opt/anaconda3/envs/reasoning-decomp/lib/python3.12/site-packages/torch/autograd/graph.py:769\u001b[0m, in \u001b[0;36m_engine_run_backward\u001b[0;34m(t_outputs, *args, **kwargs)\u001b[0m\n\u001b[1;32m    767\u001b[0m     unregister_hooks \u001b[38;5;241m=\u001b[39m _register_logging_hooks_on_whole_graph(t_outputs)\n\u001b[1;32m    768\u001b[0m \u001b[38;5;28;01mtry\u001b[39;00m:\n\u001b[0;32m--> 769\u001b[0m     \u001b[38;5;28;01mreturn\u001b[39;00m \u001b[43mVariable\u001b[49m\u001b[38;5;241;43m.\u001b[39;49m\u001b[43m_execution_engine\u001b[49m\u001b[38;5;241;43m.\u001b[39;49m\u001b[43mrun_backward\u001b[49m\u001b[43m(\u001b[49m\u001b[43m  \u001b[49m\u001b[38;5;66;43;03m# Calls into the C++ engine to run the backward pass\u001b[39;49;00m\n\u001b[1;32m    770\u001b[0m \u001b[43m        \u001b[49m\u001b[43mt_outputs\u001b[49m\u001b[43m,\u001b[49m\u001b[43m \u001b[49m\u001b[38;5;241;43m*\u001b[39;49m\u001b[43margs\u001b[49m\u001b[43m,\u001b[49m\u001b[43m \u001b[49m\u001b[38;5;241;43m*\u001b[39;49m\u001b[38;5;241;43m*\u001b[39;49m\u001b[43mkwargs\u001b[49m\n\u001b[1;32m    771\u001b[0m \u001b[43m    \u001b[49m\u001b[43m)\u001b[49m  \u001b[38;5;66;03m# Calls into the C++ engine to run the backward pass\u001b[39;00m\n\u001b[1;32m    772\u001b[0m \u001b[38;5;28;01mfinally\u001b[39;00m:\n\u001b[1;32m    773\u001b[0m     \u001b[38;5;28;01mif\u001b[39;00m attach_logging_hooks:\n",
      "\u001b[0;31mKeyboardInterrupt\u001b[0m: "
     ]
    }
   ],
   "source": [
    "sft_train_lora(\n",
    "    base_model=model,\n",
    "    train_dataset=dataset,\n",
    "    eval_dataset=dataset,\n",
    "    tokenizer=AutoTokenizer.from_pretrained(MODEL_NAME),\n",
    "    adapter_name=\"sft_lora\",\n",
    "    response_template=\" ### Answer:\",\n",
    "    lora_config=lora_config,\n",
    "    use_chat_format=use_chat_format,\n",
    ")"
   ]
  }
 ],
 "metadata": {
  "kernelspec": {
   "display_name": "reasoning-decomp",
   "language": "python",
   "name": "python3"
  },
  "language_info": {
   "codemirror_mode": {
    "name": "ipython",
    "version": 3
   },
   "file_extension": ".py",
   "mimetype": "text/x-python",
   "name": "python",
   "nbconvert_exporter": "python",
   "pygments_lexer": "ipython3",
   "version": "3.12.7"
  }
 },
 "nbformat": 4,
 "nbformat_minor": 2
}
